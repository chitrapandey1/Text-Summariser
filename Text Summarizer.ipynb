{
 "cells": [
  {
   "cell_type": "code",
   "execution_count": null,
   "id": "30b48882",
   "metadata": {},
   "outputs": [],
   "source": []
  },
  {
   "cell_type": "code",
   "execution_count": 1,
   "id": "972e66b0",
   "metadata": {},
   "outputs": [],
   "source": [
    "import nltk\n",
    "from nltk.corpus import stopwords\n",
    "from nltk.tokenize import word_tokenize, sent_tokenize\n",
    "import heapq"
   ]
  },
  {
   "cell_type": "code",
   "execution_count": null,
   "id": "9e328d41",
   "metadata": {},
   "outputs": [],
   "source": []
  },
  {
   "cell_type": "code",
   "execution_count": null,
   "id": "39834e7a",
   "metadata": {},
   "outputs": [],
   "source": [
    "def nltk_summarizer(raw_text):\n",
    "\n",
    "    # Set of English stop words\n",
    "    stopWords = set(stopwords.words(\"english\"))\n",
    "\n",
    "    # Dictionary to hold word frequencies\n",
    "    word_frequencies = {}\n",
    "\n",
    "    # Tokenize the text into words and compute word frequencies\n",
    "    for word in nltk.word_tokenize(raw_text):  \n",
    "        if word not in stopWords:  # Ignore stop words\n",
    "            if word not in word_frequencies.keys():  # If word is not already in the dictionary\n",
    "                word_frequencies[word] = 1  # Initialize frequency to 1\n",
    "            else:\n",
    "                word_frequencies[word] += 1  # Increment frequency\n",
    "\n",
    "    # Find the maximum word frequency\n",
    "    maximum_frequncy = max(word_frequencies.values())\n",
    "    \n",
    "    # Normalize word frequencies by dividing by the maximum frequency\n",
    "    for word in word_frequencies.keys():  \n",
    "        word_frequencies[word] = (word_frequencies[word] / maximum_frequncy)\n",
    "\n",
    "    # Tokenize the text into sentences\n",
    "    sentence_list = nltk.sent_tokenize(raw_text)\n",
    "    \n",
    "    # Dictionary to hold sentence scores\n",
    "    sentence_scores = {}  \n",
    "    \n",
    "    # Compute sentence scores based on word frequencies\n",
    "    for sent in sentence_list:  \n",
    "        for word in nltk.word_tokenize(sent.lower()):  # Tokenize sentence into words\n",
    "            if word in word_frequencies.keys():  # If word is in the frequency dictionary\n",
    "                if len(sent.split(' ')) < 30:  # Consider only sentences with less than 30 words\n",
    "                    if sent not in sentence_scores.keys():  # If sentence is not already in the dictionary\n",
    "                        sentence_scores[sent] = word_frequencies[word]  # Initialize score with word frequency\n",
    "                    else:\n",
    "                        sentence_scores[sent] += word_frequencies[word]  # Increment score\n",
    "\n",
    "    # Select the 7 highest-scoring sentences\n",
    "    summary_sentences = heapq.nlargest(7, sentence_scores, key=sentence_scores.get)\n",
    "\n",
    "    # Join the selected sentences to form the summary\n",
    "    summary = ' '.join(summary_sentences)  \n",
    "    \n",
    "    return summary  \n"
   ]
  }
 ],
 "metadata": {
  "kernelspec": {
   "display_name": "Python 3 (ipykernel)",
   "language": "python",
   "name": "python3"
  },
  "language_info": {
   "codemirror_mode": {
    "name": "ipython",
    "version": 3
   },
   "file_extension": ".py",
   "mimetype": "text/x-python",
   "name": "python",
   "nbconvert_exporter": "python",
   "pygments_lexer": "ipython3",
   "version": "3.9.12"
  }
 },
 "nbformat": 4,
 "nbformat_minor": 5
}
